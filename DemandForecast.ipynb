{
 "cells": [
  {
   "cell_type": "markdown",
   "metadata": {},
   "source": [
    "## Introduction\n",
    "For the past months, many businesses have been affected by a large increase of uncertainty in many areas of operations. In particular, negative impact has been felt in the supply-chain and logistics domain with many suppliers being unable to deliver products downstream. Inspired by these challenging circumstances, I want to share in this post a quick idea on how to potentially model demand at an item level plus account for randomness in demand. The items will sell at low volumes, i.e. we will see many zeros within the time-series.  \n",
    "\n",
    "For our model, this means that a continuous approximation might yield fairly unreasonable results as applicability of central limit theorems are far from being justifiable. We would also likely fail to properly account for the high probability of selling exactly zero items which might result in fairly misguided decisions. \n",
    "\n",
    "But let's just start with the data!"
   ]
  },
  {
   "cell_type": "code",
   "execution_count": 1,
   "metadata": {},
   "outputs": [],
   "source": [
    "ENV[\"JULIA_CUDA_SILENT\"]=true\n",
    "\n",
    "using Flux\n",
    "using Zygote\n",
    "using Plots\n",
    "using CSV\n",
    "using Distributions\n",
    "using Random\n",
    "using Queryverse\n",
    "using Dates"
   ]
  },
  {
   "cell_type": "markdown",
   "metadata": {},
   "source": [
    "## Dataset and preliminaries\n",
    "The dataset is a pretty generic set of [sales data from an unnamed company](https://www.kaggle.com/jyotiprasadpal/historical-sales-data-on-daily-basis-of-a-company) over different items and countries:"
   ]
  },
  {
   "cell_type": "code",
   "execution_count": 2,
   "metadata": {},
   "outputs": [
    {
     "data": {
      "text/html": [
       "<table class=\"data-frame\"><thead><tr><th></th><th>Date</th><th>Article_ID</th><th>Country_Code</th><th>Sold_Units</th></tr><tr><th></th><th>Int64</th><th>Int64</th><th>String</th><th>Int64</th></tr></thead><tbody><p>4,849 rows × 4 columns</p><tr><th>1</th><td>20170817</td><td>1132</td><td>AT</td><td>1</td></tr><tr><th>2</th><td>20170818</td><td>1132</td><td>AT</td><td>1</td></tr><tr><th>3</th><td>20170821</td><td>1132</td><td>AT</td><td>1</td></tr><tr><th>4</th><td>20170822</td><td>1132</td><td>AT</td><td>1</td></tr><tr><th>5</th><td>20170906</td><td>1132</td><td>AT</td><td>1</td></tr><tr><th>6</th><td>20170920</td><td>1132</td><td>AT</td><td>1</td></tr><tr><th>7</th><td>20170921</td><td>1132</td><td>AT</td><td>1</td></tr><tr><th>8</th><td>20170922</td><td>1132</td><td>AT</td><td>1</td></tr><tr><th>9</th><td>20170923</td><td>1132</td><td>AT</td><td>1</td></tr><tr><th>10</th><td>20170924</td><td>1132</td><td>AT</td><td>5</td></tr><tr><th>11</th><td>20170927</td><td>1132</td><td>AT</td><td>2</td></tr><tr><th>12</th><td>20170930</td><td>1132</td><td>AT</td><td>1</td></tr><tr><th>13</th><td>20171009</td><td>1132</td><td>AT</td><td>1</td></tr><tr><th>14</th><td>20171011</td><td>1132</td><td>AT</td><td>1</td></tr><tr><th>15</th><td>20171012</td><td>1132</td><td>AT</td><td>1</td></tr><tr><th>16</th><td>20171015</td><td>1132</td><td>AT</td><td>2</td></tr><tr><th>17</th><td>20171016</td><td>1132</td><td>AT</td><td>3</td></tr><tr><th>18</th><td>20171018</td><td>1132</td><td>AT</td><td>1</td></tr><tr><th>19</th><td>20171019</td><td>1132</td><td>AT</td><td>1</td></tr><tr><th>20</th><td>20171021</td><td>1132</td><td>AT</td><td>1</td></tr><tr><th>21</th><td>20171024</td><td>1132</td><td>AT</td><td>1</td></tr><tr><th>22</th><td>20171026</td><td>1132</td><td>AT</td><td>3</td></tr><tr><th>23</th><td>20171028</td><td>1132</td><td>AT</td><td>2</td></tr><tr><th>24</th><td>20171030</td><td>1132</td><td>AT</td><td>1</td></tr><tr><th>25</th><td>20171103</td><td>1132</td><td>AT</td><td>2</td></tr><tr><th>26</th><td>20171104</td><td>1132</td><td>AT</td><td>1</td></tr><tr><th>27</th><td>20171106</td><td>1132</td><td>AT</td><td>2</td></tr><tr><th>28</th><td>20171107</td><td>1132</td><td>AT</td><td>3</td></tr><tr><th>29</th><td>20171108</td><td>1132</td><td>AT</td><td>1</td></tr><tr><th>30</th><td>20171109</td><td>1132</td><td>AT</td><td>2</td></tr><tr><th>&vellip;</th><td>&vellip;</td><td>&vellip;</td><td>&vellip;</td><td>&vellip;</td></tr></tbody></table>"
      ],
      "text/latex": [
       "\\begin{tabular}{r|cccc}\n",
       "\t& Date & Article\\_ID & Country\\_Code & Sold\\_Units\\\\\n",
       "\t\\hline\n",
       "\t& Int64 & Int64 & String & Int64\\\\\n",
       "\t\\hline\n",
       "\t1 & 20170817 & 1132 & AT & 1 \\\\\n",
       "\t2 & 20170818 & 1132 & AT & 1 \\\\\n",
       "\t3 & 20170821 & 1132 & AT & 1 \\\\\n",
       "\t4 & 20170822 & 1132 & AT & 1 \\\\\n",
       "\t5 & 20170906 & 1132 & AT & 1 \\\\\n",
       "\t6 & 20170920 & 1132 & AT & 1 \\\\\n",
       "\t7 & 20170921 & 1132 & AT & 1 \\\\\n",
       "\t8 & 20170922 & 1132 & AT & 1 \\\\\n",
       "\t9 & 20170923 & 1132 & AT & 1 \\\\\n",
       "\t10 & 20170924 & 1132 & AT & 5 \\\\\n",
       "\t11 & 20170927 & 1132 & AT & 2 \\\\\n",
       "\t12 & 20170930 & 1132 & AT & 1 \\\\\n",
       "\t13 & 20171009 & 1132 & AT & 1 \\\\\n",
       "\t14 & 20171011 & 1132 & AT & 1 \\\\\n",
       "\t15 & 20171012 & 1132 & AT & 1 \\\\\n",
       "\t16 & 20171015 & 1132 & AT & 2 \\\\\n",
       "\t17 & 20171016 & 1132 & AT & 3 \\\\\n",
       "\t18 & 20171018 & 1132 & AT & 1 \\\\\n",
       "\t19 & 20171019 & 1132 & AT & 1 \\\\\n",
       "\t20 & 20171021 & 1132 & AT & 1 \\\\\n",
       "\t21 & 20171024 & 1132 & AT & 1 \\\\\n",
       "\t22 & 20171026 & 1132 & AT & 3 \\\\\n",
       "\t23 & 20171028 & 1132 & AT & 2 \\\\\n",
       "\t24 & 20171030 & 1132 & AT & 1 \\\\\n",
       "\t25 & 20171103 & 1132 & AT & 2 \\\\\n",
       "\t26 & 20171104 & 1132 & AT & 1 \\\\\n",
       "\t27 & 20171106 & 1132 & AT & 2 \\\\\n",
       "\t28 & 20171107 & 1132 & AT & 3 \\\\\n",
       "\t29 & 20171108 & 1132 & AT & 1 \\\\\n",
       "\t30 & 20171109 & 1132 & AT & 2 \\\\\n",
       "\t$\\dots$ & $\\dots$ & $\\dots$ & $\\dots$ & $\\dots$ \\\\\n",
       "\\end{tabular}\n"
      ],
      "text/plain": [
       "4849×4 DataFrame\n",
       "│ Row  │ Date     │ Article_ID │ Country_Code │ Sold_Units │\n",
       "│      │ \u001b[90mInt64\u001b[39m    │ \u001b[90mInt64\u001b[39m      │ \u001b[90mString\u001b[39m       │ \u001b[90mInt64\u001b[39m      │\n",
       "├──────┼──────────┼────────────┼──────────────┼────────────┤\n",
       "│ 1    │ 20170817 │ 1132       │ AT           │ 1          │\n",
       "│ 2    │ 20170818 │ 1132       │ AT           │ 1          │\n",
       "│ 3    │ 20170821 │ 1132       │ AT           │ 1          │\n",
       "│ 4    │ 20170822 │ 1132       │ AT           │ 1          │\n",
       "│ 5    │ 20170906 │ 1132       │ AT           │ 1          │\n",
       "│ 6    │ 20170920 │ 1132       │ AT           │ 1          │\n",
       "│ 7    │ 20170921 │ 1132       │ AT           │ 1          │\n",
       "│ 8    │ 20170922 │ 1132       │ AT           │ 1          │\n",
       "│ 9    │ 20170923 │ 1132       │ AT           │ 1          │\n",
       "│ 10   │ 20170924 │ 1132       │ AT           │ 5          │\n",
       "⋮\n",
       "│ 4839 │ 20181030 │ 5972       │ SE           │ 1          │\n",
       "│ 4840 │ 20181102 │ 5972       │ SE           │ 2          │\n",
       "│ 4841 │ 20181107 │ 5972       │ SE           │ 1          │\n",
       "│ 4842 │ 20181122 │ 5972       │ SE           │ 1          │\n",
       "│ 4843 │ 20181126 │ 5972       │ SE           │ 1          │\n",
       "│ 4844 │ 20181130 │ 5972       │ SE           │ 1          │\n",
       "│ 4845 │ 20181211 │ 5972       │ SE           │ 1          │\n",
       "│ 4846 │ 20190101 │ 5972       │ SE           │ 3          │\n",
       "│ 4847 │ 20190120 │ 5972       │ SE           │ 1          │\n",
       "│ 4848 │ 20190123 │ 5972       │ SE           │ 1          │\n",
       "│ 4849 │ 20190130 │ 5972       │ SE           │ 1          │"
      ]
     },
     "execution_count": 2,
     "metadata": {},
     "output_type": "execute_result"
    }
   ],
   "source": [
    "df = CSV.File(\"Historical_Data.csv\") |> DataFrame "
   ]
  },
  {
   "cell_type": "markdown",
   "metadata": {},
   "source": [
    "For convenience, we simply use the data for *Article_ID==1132* sold solely in *Country_Code==\"AT\"*."
   ]
  },
  {
   "cell_type": "code",
   "execution_count": 3,
   "metadata": {},
   "outputs": [
    {
     "data": {
      "text/plain": [
       "245-element Array{Date,1}:\n",
       " 2017-08-17\n",
       " 2017-08-18\n",
       " 2017-08-21\n",
       " 2017-08-22\n",
       " 2017-09-06\n",
       " 2017-09-20\n",
       " 2017-09-21\n",
       " 2017-09-22\n",
       " 2017-09-23\n",
       " 2017-09-24\n",
       " 2017-09-27\n",
       " 2017-09-30\n",
       " 2017-10-09\n",
       " ⋮\n",
       " 2019-01-26\n",
       " 2019-01-27\n",
       " 2019-01-29\n",
       " 2019-02-03\n",
       " 2019-02-04\n",
       " 2019-02-06\n",
       " 2019-02-07\n",
       " 2019-02-08\n",
       " 2019-02-10\n",
       " 2019-02-11\n",
       " 2019-02-12\n",
       " 2019-02-13"
      ]
     },
     "execution_count": 3,
     "metadata": {},
     "output_type": "execute_result"
    }
   ],
   "source": [
    "data = df |> @filter(_.Country_Code==\"AT\" && _.Article_ID==1132) |> @select(:Date, :Sold_Units) |> DataFrame\n",
    "data.Date = Date.(string.(data.Date),\"yyyymmdd\")"
   ]
  },
  {
   "cell_type": "markdown",
   "metadata": {},
   "source": [
    "Also, the dataset only contains dates with non-zero units sold. In order to build a proper forecast model, we create two vectors containing all dates in the observed period and all sales volumes (zeros included) respectively."
   ]
  },
  {
   "cell_type": "code",
   "execution_count": 4,
   "metadata": {},
   "outputs": [],
   "source": [
    "dates = collect(minimum(data.Date):Day(1):maximum(data.Date)) \n",
    "\n",
    "T = size(dates)[1]\n",
    "\n",
    "sales = zeros(T)\n",
    "\n",
    "for i in 1:T\n",
    "    if dates[i] in data.Date\n",
    "        sales[i] = data.Sold_Units[data.Date.==dates[i]][1]\n",
    "    end\n",
    "end"
   ]
  },
  {
   "cell_type": "code",
   "execution_count": 5,
   "metadata": {},
   "outputs": [
    {
     "data": {
      "image/svg+xml": [
       "<?xml version=\"1.0\" encoding=\"utf-8\"?>\n",
       "<svg xmlns=\"http://www.w3.org/2000/svg\" xmlns:xlink=\"http://www.w3.org/1999/xlink\" width=\"900\" height=\"400\" viewBox=\"0 0 3600 1600\">\n",
       "<defs>\n",
       "  <clipPath id=\"clip9600\">\n",
       "    <rect x=\"0\" y=\"0\" width=\"3600\" height=\"1600\"/>\n",
       "  </clipPath>\n",
       "</defs>\n",
       "<path clip-path=\"url(#clip9600)\" d=\"\n",
       "M0 1600 L3600 1600 L3600 0 L0 0  Z\n",
       "  \" fill=\"#ffffff\" fill-rule=\"evenodd\" fill-opacity=\"1\"/>\n",
       "<defs>\n",
       "  <clipPath id=\"clip9601\">\n",
       "    <rect x=\"720\" y=\"0\" width=\"2521\" height=\"1600\"/>\n",
       "  </clipPath>\n",
       "</defs>\n",
       "<path clip-path=\"url(#clip9600)\" d=\"\n",
       "M180.66 1487.47 L3552.76 1487.47 L3552.76 121.675 L180.66 121.675  Z\n",
       "  \" fill=\"#ffffff\" fill-rule=\"evenodd\" fill-opacity=\"1\"/>\n",
       "<defs>\n",
       "  <clipPath id=\"clip9602\">\n",
       "    <rect x=\"180\" y=\"121\" width=\"3373\" height=\"1367\"/>\n",
       "  </clipPath>\n",
       "</defs>\n",
       "<polyline clip-path=\"url(#clip9602)\" style=\"stroke:#000000; stroke-width:2; stroke-opacity:0.1; fill:none\" points=\"\n",
       "  182.703,1487.47 182.703,121.675 \n",
       "  \"/>\n",
       "<polyline clip-path=\"url(#clip9602)\" style=\"stroke:#000000; stroke-width:2; stroke-opacity:0.1; fill:none\" points=\"\n",
       "  1075.78,1487.47 1075.78,121.675 \n",
       "  \"/>\n",
       "<polyline clip-path=\"url(#clip9602)\" style=\"stroke:#000000; stroke-width:2; stroke-opacity:0.1; fill:none\" points=\"\n",
       "  1957.18,1487.47 1957.18,121.675 \n",
       "  \"/>\n",
       "<polyline clip-path=\"url(#clip9602)\" style=\"stroke:#000000; stroke-width:2; stroke-opacity:0.1; fill:none\" points=\"\n",
       "  2850.26,1487.47 2850.26,121.675 \n",
       "  \"/>\n",
       "<polyline clip-path=\"url(#clip9602)\" style=\"stroke:#000000; stroke-width:2; stroke-opacity:0.1; fill:none\" points=\"\n",
       "  180.66,1448.82 3552.76,1448.82 \n",
       "  \"/>\n",
       "<polyline clip-path=\"url(#clip9602)\" style=\"stroke:#000000; stroke-width:2; stroke-opacity:0.1; fill:none\" points=\"\n",
       "  180.66,1126.7 3552.76,1126.7 \n",
       "  \"/>\n",
       "<polyline clip-path=\"url(#clip9602)\" style=\"stroke:#000000; stroke-width:2; stroke-opacity:0.1; fill:none\" points=\"\n",
       "  180.66,804.575 3552.76,804.575 \n",
       "  \"/>\n",
       "<polyline clip-path=\"url(#clip9602)\" style=\"stroke:#000000; stroke-width:2; stroke-opacity:0.1; fill:none\" points=\"\n",
       "  180.66,482.452 3552.76,482.452 \n",
       "  \"/>\n",
       "<polyline clip-path=\"url(#clip9602)\" style=\"stroke:#000000; stroke-width:2; stroke-opacity:0.1; fill:none\" points=\"\n",
       "  180.66,160.33 3552.76,160.33 \n",
       "  \"/>\n",
       "<polyline clip-path=\"url(#clip9600)\" style=\"stroke:#000000; stroke-width:4; stroke-opacity:1; fill:none\" points=\"\n",
       "  180.66,1487.47 3552.76,1487.47 \n",
       "  \"/>\n",
       "<polyline clip-path=\"url(#clip9600)\" style=\"stroke:#000000; stroke-width:4; stroke-opacity:1; fill:none\" points=\"\n",
       "  180.66,1487.47 180.66,121.675 \n",
       "  \"/>\n",
       "<polyline clip-path=\"url(#clip9600)\" style=\"stroke:#000000; stroke-width:4; stroke-opacity:1; fill:none\" points=\"\n",
       "  182.703,1487.47 182.703,1471.09 \n",
       "  \"/>\n",
       "<polyline clip-path=\"url(#clip9600)\" style=\"stroke:#000000; stroke-width:4; stroke-opacity:1; fill:none\" points=\"\n",
       "  1075.78,1487.47 1075.78,1471.09 \n",
       "  \"/>\n",
       "<polyline clip-path=\"url(#clip9600)\" style=\"stroke:#000000; stroke-width:4; stroke-opacity:1; fill:none\" points=\"\n",
       "  1957.18,1487.47 1957.18,1471.09 \n",
       "  \"/>\n",
       "<polyline clip-path=\"url(#clip9600)\" style=\"stroke:#000000; stroke-width:4; stroke-opacity:1; fill:none\" points=\"\n",
       "  2850.26,1487.47 2850.26,1471.09 \n",
       "  \"/>\n",
       "<polyline clip-path=\"url(#clip9600)\" style=\"stroke:#000000; stroke-width:4; stroke-opacity:1; fill:none\" points=\"\n",
       "  180.66,1448.82 221.125,1448.82 \n",
       "  \"/>\n",
       "<polyline clip-path=\"url(#clip9600)\" style=\"stroke:#000000; stroke-width:4; stroke-opacity:1; fill:none\" points=\"\n",
       "  180.66,1126.7 221.125,1126.7 \n",
       "  \"/>\n",
       "<polyline clip-path=\"url(#clip9600)\" style=\"stroke:#000000; stroke-width:4; stroke-opacity:1; fill:none\" points=\"\n",
       "  180.66,804.575 221.125,804.575 \n",
       "  \"/>\n",
       "<polyline clip-path=\"url(#clip9600)\" style=\"stroke:#000000; stroke-width:4; stroke-opacity:1; fill:none\" points=\"\n",
       "  180.66,482.452 221.125,482.452 \n",
       "  \"/>\n",
       "<polyline clip-path=\"url(#clip9600)\" style=\"stroke:#000000; stroke-width:4; stroke-opacity:1; fill:none\" points=\"\n",
       "  180.66,160.33 221.125,160.33 \n",
       "  \"/>\n",
       "<g clip-path=\"url(#clip9600)\">\n",
       "<text style=\"fill:#000000; fill-opacity:1; font-family:Arial,Helvetica Neue,Helvetica,sans-serif; font-size:48px; text-anchor:middle;\" transform=\"rotate(0, 182.703, 1547.47)\" x=\"182.703\" y=\"1547.47\">2017-08-01</text>\n",
       "</g>\n",
       "<g clip-path=\"url(#clip9600)\">\n",
       "<text style=\"fill:#000000; fill-opacity:1; font-family:Arial,Helvetica Neue,Helvetica,sans-serif; font-size:48px; text-anchor:middle;\" transform=\"rotate(0, 1075.78, 1547.47)\" x=\"1075.78\" y=\"1547.47\">2018-01-01</text>\n",
       "</g>\n",
       "<g clip-path=\"url(#clip9600)\">\n",
       "<text style=\"fill:#000000; fill-opacity:1; font-family:Arial,Helvetica Neue,Helvetica,sans-serif; font-size:48px; text-anchor:middle;\" transform=\"rotate(0, 1957.18, 1547.47)\" x=\"1957.18\" y=\"1547.47\">2018-06-01</text>\n",
       "</g>\n",
       "<g clip-path=\"url(#clip9600)\">\n",
       "<text style=\"fill:#000000; fill-opacity:1; font-family:Arial,Helvetica Neue,Helvetica,sans-serif; font-size:48px; text-anchor:middle;\" transform=\"rotate(0, 2850.26, 1547.47)\" x=\"2850.26\" y=\"1547.47\">2018-11-01</text>\n",
       "</g>\n",
       "<g clip-path=\"url(#clip9600)\">\n",
       "<text style=\"fill:#000000; fill-opacity:1; font-family:Arial,Helvetica Neue,Helvetica,sans-serif; font-size:48px; text-anchor:end;\" transform=\"rotate(0, 144.66, 1466.32)\" x=\"144.66\" y=\"1466.32\">0.0</text>\n",
       "</g>\n",
       "<g clip-path=\"url(#clip9600)\">\n",
       "<text style=\"fill:#000000; fill-opacity:1; font-family:Arial,Helvetica Neue,Helvetica,sans-serif; font-size:48px; text-anchor:end;\" transform=\"rotate(0, 144.66, 1144.2)\" x=\"144.66\" y=\"1144.2\">2.5</text>\n",
       "</g>\n",
       "<g clip-path=\"url(#clip9600)\">\n",
       "<text style=\"fill:#000000; fill-opacity:1; font-family:Arial,Helvetica Neue,Helvetica,sans-serif; font-size:48px; text-anchor:end;\" transform=\"rotate(0, 144.66, 822.075)\" x=\"144.66\" y=\"822.075\">5.0</text>\n",
       "</g>\n",
       "<g clip-path=\"url(#clip9600)\">\n",
       "<text style=\"fill:#000000; fill-opacity:1; font-family:Arial,Helvetica Neue,Helvetica,sans-serif; font-size:48px; text-anchor:end;\" transform=\"rotate(0, 144.66, 499.952)\" x=\"144.66\" y=\"499.952\">7.5</text>\n",
       "</g>\n",
       "<g clip-path=\"url(#clip9600)\">\n",
       "<text style=\"fill:#000000; fill-opacity:1; font-family:Arial,Helvetica Neue,Helvetica,sans-serif; font-size:48px; text-anchor:end;\" transform=\"rotate(0, 144.66, 177.83)\" x=\"144.66\" y=\"177.83\">10.0</text>\n",
       "</g>\n",
       "<g clip-path=\"url(#clip9600)\">\n",
       "<text style=\"fill:#000000; fill-opacity:1; font-family:Arial,Helvetica Neue,Helvetica,sans-serif; font-size:82px; text-anchor:middle;\" transform=\"rotate(0, 1866.71, 72)\" x=\"1866.71\" y=\"72\">Sales of item 1132</text>\n",
       "</g>\n",
       "<polyline clip-path=\"url(#clip9602)\" style=\"stroke:#009af9; stroke-width:4; stroke-opacity:1; fill:none\" points=\"\n",
       "  276.097,1319.97 281.934,1319.97 287.771,1448.82 293.608,1448.82 299.445,1319.97 305.283,1319.97 311.12,1448.82 316.957,1448.82 322.794,1448.82 328.631,1448.82 \n",
       "  334.468,1448.82 340.305,1448.82 346.142,1448.82 351.979,1448.82 357.816,1448.82 363.654,1448.82 369.491,1448.82 375.328,1448.82 381.165,1448.82 387.002,1448.82 \n",
       "  392.839,1319.97 398.676,1448.82 404.513,1448.82 410.35,1448.82 416.188,1448.82 422.025,1448.82 427.862,1448.82 433.699,1448.82 439.536,1448.82 445.373,1448.82 \n",
       "  451.21,1448.82 457.047,1448.82 462.884,1448.82 468.721,1448.82 474.559,1319.97 480.396,1319.97 486.233,1319.97 492.07,1319.97 497.907,804.575 503.744,1448.82 \n",
       "  509.581,1448.82 515.418,1191.12 521.255,1448.82 527.093,1448.82 532.93,1319.97 538.767,1448.82 544.604,1448.82 550.441,1448.82 556.278,1448.82 562.115,1448.82 \n",
       "  567.952,1448.82 573.789,1448.82 579.626,1448.82 585.464,1319.97 591.301,1448.82 597.138,1319.97 602.975,1319.97 608.812,1448.82 614.649,1448.82 620.486,1191.12 \n",
       "  626.323,1062.27 632.16,1448.82 637.997,1319.97 643.835,1319.97 649.672,1448.82 655.509,1319.97 661.346,1448.82 667.183,1448.82 673.02,1319.97 678.857,1448.82 \n",
       "  684.694,1062.27 690.531,1448.82 696.369,1191.12 702.206,1448.82 708.043,1319.97 713.88,1448.82 719.717,1448.82 725.554,1448.82 731.391,1191.12 737.228,1319.97 \n",
       "  743.065,1448.82 748.902,1191.12 754.74,1062.27 760.577,1319.97 766.414,1191.12 772.251,1062.27 778.088,1448.82 783.925,1448.82 789.762,1062.27 795.599,1448.82 \n",
       "  801.436,1191.12 807.274,1448.82 813.111,1448.82 818.948,1448.82 824.785,1319.97 830.622,1191.12 836.459,1319.97 842.296,1448.82 848.133,1319.97 853.97,1319.97 \n",
       "  859.807,1319.97 865.645,1319.97 871.482,1191.12 877.319,1448.82 883.156,1448.82 888.993,1448.82 894.83,1319.97 900.667,1319.97 906.504,1191.12 912.341,1319.97 \n",
       "  918.179,1448.82 924.016,1448.82 929.853,1448.82 935.69,1319.97 941.527,1448.82 947.364,1319.97 953.201,1448.82 959.038,1319.97 964.875,1062.27 970.712,1319.97 \n",
       "  976.55,1191.12 982.387,1319.97 988.224,1319.97 994.061,1448.82 999.898,1191.12 1005.74,1191.12 1011.57,1448.82 1017.41,1319.97 1023.25,1448.82 1029.08,1448.82 \n",
       "  1034.92,1448.82 1040.76,1448.82 1046.59,1319.97 1052.43,1319.97 1058.27,1319.97 1064.11,1319.97 1069.94,1448.82 1075.78,1448.82 1081.62,1319.97 1087.45,1191.12 \n",
       "  1093.29,1448.82 1099.13,1448.82 1104.97,1191.12 1110.8,1448.82 1116.64,1448.82 1122.48,1319.97 1128.31,1191.12 1134.15,1448.82 1139.99,1448.82 1145.83,1448.82 \n",
       "  1151.66,933.424 1157.5,1191.12 1163.34,1448.82 1169.17,1319.97 1175.01,1062.27 1180.85,1319.97 1186.69,1448.82 1192.52,1448.82 1198.36,1448.82 1204.2,1448.82 \n",
       "  1210.03,1448.82 1215.87,1062.27 1221.71,1319.97 1227.55,1319.97 1233.38,1062.27 1239.22,1448.82 1245.06,1319.97 1250.89,1448.82 1256.73,1448.82 1262.57,1448.82 \n",
       "  1268.4,1319.97 1274.24,1191.12 1280.08,1448.82 1285.92,1319.97 1291.75,1448.82 1297.59,1191.12 1303.43,1448.82 1309.26,1448.82 1315.1,1062.27 1320.94,1448.82 \n",
       "  1326.78,1448.82 1332.61,1319.97 1338.45,1448.82 1344.29,1448.82 1350.12,933.424 1355.96,1191.12 1361.8,1448.82 1367.64,1191.12 1373.47,1319.97 1379.31,1191.12 \n",
       "  1385.15,1448.82 1390.98,1191.12 1396.82,1319.97 1402.66,1319.97 1408.5,1448.82 1414.33,1319.97 1420.17,1319.97 1426.01,933.424 1431.84,1191.12 1437.68,1448.82 \n",
       "  1443.52,1191.12 1449.36,1448.82 1455.19,1448.82 1461.03,1448.82 1466.87,1448.82 1472.7,1448.82 1478.54,1448.82 1484.38,1448.82 1490.21,1448.82 1496.05,1448.82 \n",
       "  1501.89,1191.12 1507.73,1448.82 1513.56,1448.82 1519.4,1191.12 1525.24,1448.82 1531.07,1062.27 1536.91,1319.97 1542.75,1448.82 1548.59,1448.82 1554.42,1319.97 \n",
       "  1560.26,1191.12 1566.1,1448.82 1571.93,1319.97 1577.77,1448.82 1583.61,1448.82 1589.45,1319.97 1595.28,1448.82 1601.12,1319.97 1606.96,1191.12 1612.79,1448.82 \n",
       "  1618.63,1319.97 1624.47,1062.27 1630.31,1448.82 1636.14,1319.97 1641.98,1448.82 1647.82,1448.82 1653.65,1319.97 1659.49,1062.27 1665.33,1448.82 1671.17,1319.97 \n",
       "  1677,1319.97 1682.84,546.877 1688.68,804.575 1694.51,1448.82 1700.35,1191.12 1706.19,160.33 1712.02,1062.27 1717.86,1448.82 1723.7,1319.97 1729.54,1062.27 \n",
       "  1735.37,1448.82 1741.21,1319.97 1747.05,1448.82 1752.88,1191.12 1758.72,1448.82 1764.56,1448.82 1770.4,1448.82 1776.23,1448.82 1782.07,933.424 1787.91,1448.82 \n",
       "  1793.74,1319.97 1799.58,1191.12 1805.42,1319.97 1811.26,1319.97 1817.09,1448.82 1822.93,1448.82 1828.77,1191.12 1834.6,933.424 1840.44,1448.82 1846.28,1448.82 \n",
       "  1852.12,1448.82 1857.95,1191.12 1863.79,1448.82 1869.63,1062.27 1875.46,1191.12 1881.3,1448.82 1887.14,1319.97 1892.98,1191.12 1898.81,1448.82 1904.65,1191.12 \n",
       "  1910.49,1319.97 1916.32,1191.12 1922.16,1448.82 1928,1448.82 1933.83,1448.82 1939.67,1448.82 1945.51,1448.82 1951.35,1448.82 1957.18,1062.27 1963.02,1448.82 \n",
       "  1968.86,1448.82 1974.69,1062.27 1980.53,1448.82 1986.37,1448.82 1992.21,1448.82 1998.04,1319.97 2003.88,1448.82 2009.72,1448.82 2015.55,1448.82 2021.39,1191.12 \n",
       "  2027.23,1448.82 2033.07,1319.97 2038.9,1448.82 2044.74,1448.82 2050.58,1319.97 2056.41,1448.82 2062.25,1448.82 2068.09,1319.97 2073.93,1448.82 2079.76,1191.12 \n",
       "  2085.6,1319.97 2091.44,1448.82 2097.27,1448.82 2103.11,1448.82 2108.95,1448.82 2114.79,1448.82 2120.62,1448.82 2126.46,1448.82 2132.3,1448.82 2138.13,1448.82 \n",
       "  2143.97,1448.82 2149.81,1448.82 2155.64,1448.82 2161.48,1319.97 2167.32,1448.82 2173.16,1448.82 2178.99,1448.82 2184.83,1448.82 2190.67,1448.82 2196.5,1448.82 \n",
       "  2202.34,1448.82 2208.18,804.575 2214.02,1448.82 2219.85,1448.82 2225.69,1448.82 2231.53,1448.82 2237.36,1319.97 2243.2,1448.82 2249.04,1448.82 2254.88,1448.82 \n",
       "  2260.71,1448.82 2266.55,1062.27 2272.39,1319.97 2278.22,1448.82 2284.06,1448.82 2289.9,1448.82 2295.74,1319.97 2301.57,1448.82 2307.41,1448.82 2313.25,1448.82 \n",
       "  2319.08,1319.97 2324.92,1062.27 2330.76,1448.82 2336.6,1191.12 2342.43,1448.82 2348.27,1319.97 2354.11,1448.82 2359.94,1448.82 2365.78,1448.82 2371.62,1448.82 \n",
       "  2377.45,1319.97 2383.29,1319.97 2389.13,1319.97 2394.97,1448.82 2400.8,1448.82 2406.64,1448.82 2412.48,1448.82 2418.31,1448.82 2424.15,1448.82 2429.99,1448.82 \n",
       "  2435.83,1448.82 2441.66,1448.82 2447.5,1448.82 2453.34,1319.97 2459.17,1448.82 2465.01,1448.82 2470.85,1448.82 2476.69,1448.82 2482.52,1062.27 2488.36,1448.82 \n",
       "  2494.2,1448.82 2500.03,1448.82 2505.87,1448.82 2511.71,1191.12 2517.55,1448.82 2523.38,1448.82 2529.22,1319.97 2535.06,1448.82 2540.89,1319.97 2546.73,1448.82 \n",
       "  2552.57,1448.82 2558.41,1448.82 2564.24,1448.82 2570.08,1319.97 2575.92,1448.82 2581.75,1448.82 2587.59,1448.82 2593.43,1448.82 2599.26,1448.82 2605.1,1448.82 \n",
       "  2610.94,1319.97 2616.78,1191.12 2622.61,1319.97 2628.45,1319.97 2634.29,1448.82 2640.12,1191.12 2645.96,1448.82 2651.8,1448.82 2657.64,1448.82 2663.47,1448.82 \n",
       "  2669.31,1448.82 2675.15,1448.82 2680.98,1448.82 2686.82,1319.97 2692.66,1448.82 2698.5,1448.82 2704.33,1191.12 2710.17,1319.97 2716.01,1448.82 2721.84,1319.97 \n",
       "  2727.68,1448.82 2733.52,1319.97 2739.36,1448.82 2745.19,1319.97 2751.03,1319.97 2756.87,1448.82 2762.7,1448.82 2768.54,1448.82 2774.38,1319.97 2780.22,1448.82 \n",
       "  2786.05,1448.82 2791.89,1319.97 2797.73,1319.97 2803.56,1191.12 2809.4,1062.27 2815.24,1062.27 2821.07,1319.97 2826.91,1319.97 2832.75,1448.82 2838.59,933.424 \n",
       "  2844.42,1319.97 2850.26,1448.82 2856.1,1319.97 2861.93,1448.82 2867.77,1448.82 2873.61,1191.12 2879.45,1319.97 2885.28,933.424 2891.12,804.575 2896.96,1062.27 \n",
       "  2902.79,804.575 2908.63,804.575 2914.47,1448.82 2920.31,933.424 2926.14,1062.27 2931.98,1191.12 2937.82,1191.12 2943.65,1319.97 2949.49,933.424 2955.33,1191.12 \n",
       "  2961.17,1319.97 2967,1191.12 2972.84,1191.12 2978.68,546.877 2984.51,1448.82 2990.35,1448.82 2996.19,1448.82 3002.03,1448.82 3007.86,1448.82 3013.7,1319.97 \n",
       "  3019.54,1448.82 3025.37,1448.82 3031.21,1448.82 3037.05,1448.82 3042.88,1319.97 3048.72,1448.82 3054.56,1448.82 3060.4,1448.82 3066.23,1448.82 3072.07,1319.97 \n",
       "  3077.91,1191.12 3083.74,1448.82 3089.58,1062.27 3095.42,1448.82 3101.26,1319.97 3107.09,1448.82 3112.93,1319.97 3118.77,1319.97 3124.6,1319.97 3130.44,1448.82 \n",
       "  3136.28,1319.97 3142.12,1319.97 3147.95,1191.12 3153.79,1319.97 3159.63,1448.82 3165.46,1448.82 3171.3,1191.12 3177.14,1319.97 3182.98,1319.97 3188.81,1319.97 \n",
       "  3194.65,1191.12 3200.49,1319.97 3206.32,1448.82 3212.16,1448.82 3218,1448.82 3223.84,1448.82 3229.67,1448.82 3235.51,1448.82 3241.35,1448.82 3247.18,1448.82 \n",
       "  3253.02,1062.27 3258.86,1448.82 3264.69,1319.97 3270.53,1062.27 3276.37,1319.97 3282.21,1448.82 3288.04,1448.82 3293.88,1448.82 3299.72,1448.82 3305.55,1448.82 \n",
       "  3311.39,1191.12 3317.23,1448.82 3323.07,1319.97 3328.9,1191.12 3334.74,1319.97 3340.58,1319.97 3346.41,1319.97 3352.25,1319.97 3358.09,1191.12 3363.93,1448.82 \n",
       "  3369.76,1319.97 3375.6,1448.82 3381.44,1448.82 3387.27,1448.82 3393.11,1448.82 3398.95,1319.97 3404.79,1319.97 3410.62,1448.82 3416.46,1319.97 3422.3,1191.12 \n",
       "  3428.13,1319.97 3433.97,1448.82 3439.81,804.575 3445.65,1191.12 3451.48,1062.27 3457.32,1191.12 \n",
       "  \"/>\n",
       "<path clip-path=\"url(#clip9600)\" d=\"\n",
       "M2873.4 398.155 L3444.76 398.155 L3444.76 277.195 L2873.4 277.195  Z\n",
       "  \" fill=\"#ffffff\" fill-rule=\"evenodd\" fill-opacity=\"1\"/>\n",
       "<polyline clip-path=\"url(#clip9600)\" style=\"stroke:#000000; stroke-width:4; stroke-opacity:1; fill:none\" points=\"\n",
       "  2873.4,398.155 3444.76,398.155 3444.76,277.195 2873.4,277.195 2873.4,398.155 \n",
       "  \"/>\n",
       "<polyline clip-path=\"url(#clip9600)\" style=\"stroke:#009af9; stroke-width:4; stroke-opacity:1; fill:none\" points=\"\n",
       "  2909.4,337.675 3125.4,337.675 \n",
       "  \"/>\n",
       "<g clip-path=\"url(#clip9600)\">\n",
       "<text style=\"fill:#000000; fill-opacity:1; font-family:Arial,Helvetica Neue,Helvetica,sans-serif; font-size:48px; text-anchor:start;\" transform=\"rotate(0, 3161.4, 355.175)\" x=\"3161.4\" y=\"355.175\">Sold units</text>\n",
       "</g>\n",
       "</svg>\n"
      ]
     },
     "execution_count": 5,
     "metadata": {},
     "output_type": "execute_result"
    }
   ],
   "source": [
    "plot(dates, sales, title=\"Sales of item 1132\", label=\"Sold units\", size=(900,400))"
   ]
  },
  {
   "cell_type": "markdown",
   "metadata": {},
   "source": [
    "We see that the demand never crosses 10 items per day and that there exists a non-neglgible amount of days with no sales at all. All of this should be accounted for in our model."
   ]
  },
  {
   "cell_type": "markdown",
   "metadata": {},
   "source": [
    "## The model\n",
    "In summary, our ideal model should account at least for the following:\n",
    "- Forecast values should be non-negative integers\n",
    "- Error intervals should be reasonable and only contain non-negative values as well\n",
    "- Our whole model should be end-to-end differentiable to enable efficient parameter optimization  \n",
    "\n",
    "Luckily, all of the above can be achieved with a [Poisson-Distribution](https://en.wikipedia.org/wiki/Poisson_distribution):  \n",
    "\n",
    "$$p_{Pois}(y;\\lambda)=\\frac{\\lambda^y\\cdot exp(-\\lambda))}{y!}\\cdot\\mathbb{I}_{(y\\in\\mathbb{Z}^+_0)}(y)$$  \n",
    "\n",
    "As we see, the Poisson distribution only puts probability mass on non-zero integers. In addition, $\\lambda\\in\\mathbb{R}^+$, hence we can differentiate through all distribution parameters.  \n",
    "\n",
    "We can now formulate the actual forecasting model:  \n",
    "\n",
    "$$sales_{t}\\sim Pois(\\Lambda_{t})$$  \n",
    "\n",
    "$$\\Lambda_{t}=exp\\left(\\Phi(sales_{(t-1:t-14)})\\right)$$  \n",
    "\n",
    "Here, $\\Phi(\\cdot)$ denotes an arbitrary non-linear function - we can simply plug-in a Feedforward Neural Network.\n",
    "$sales_{(t-1:t-14)}$ is a vector of lagged realizations of items sold, i.e. the past 14 sales datapoints before the day we want to forecast. Obviously, the model is very simplistic and we should ideally add more features in a real-world use-case."
   ]
  },
  {
   "cell_type": "code",
   "execution_count": 6,
   "metadata": {},
   "outputs": [],
   "source": [
    "lag = 14\n",
    "\n",
    "lagged_sales = Matrix(zeros(lag, T-lag))\n",
    "for t in 1:T-lag\n",
    "    for l in 1:lag \n",
    "        lagged_sales[l,t] = sales[t-1+l]\n",
    "    end\n",
    "end"
   ]
  },
  {
   "cell_type": "code",
   "execution_count": 7,
   "metadata": {},
   "outputs": [
    {
     "data": {
      "text/plain": [
       "14×532 Array{Float64,2}:\n",
       " 1.0  1.0  0.0  0.0  1.0  1.0  0.0  0.0  …  1.0  1.0  1.0  2.0  0.0  1.0  0.0\n",
       " 1.0  0.0  0.0  1.0  1.0  0.0  0.0  0.0     1.0  1.0  2.0  0.0  1.0  0.0  0.0\n",
       " 0.0  0.0  1.0  1.0  0.0  0.0  0.0  0.0     1.0  2.0  0.0  1.0  0.0  0.0  0.0\n",
       " 0.0  1.0  1.0  0.0  0.0  0.0  0.0  0.0     2.0  0.0  1.0  0.0  0.0  0.0  0.0\n",
       " 1.0  1.0  0.0  0.0  0.0  0.0  0.0  0.0     0.0  1.0  0.0  0.0  0.0  0.0  1.0\n",
       " 1.0  0.0  0.0  0.0  0.0  0.0  0.0  0.0  …  1.0  0.0  0.0  0.0  0.0  1.0  1.0\n",
       " 0.0  0.0  0.0  0.0  0.0  0.0  0.0  0.0     0.0  0.0  0.0  0.0  1.0  1.0  0.0\n",
       " 0.0  0.0  0.0  0.0  0.0  0.0  0.0  0.0     0.0  0.0  0.0  1.0  1.0  0.0  1.0\n",
       " 0.0  0.0  0.0  0.0  0.0  0.0  0.0  0.0     0.0  0.0  1.0  1.0  0.0  1.0  2.0\n",
       " 0.0  0.0  0.0  0.0  0.0  0.0  0.0  0.0     0.0  1.0  1.0  0.0  1.0  2.0  1.0\n",
       " 0.0  0.0  0.0  0.0  0.0  0.0  0.0  0.0  …  1.0  1.0  0.0  1.0  2.0  1.0  0.0\n",
       " 0.0  0.0  0.0  0.0  0.0  0.0  0.0  0.0     1.0  0.0  1.0  2.0  1.0  0.0  5.0\n",
       " 0.0  0.0  0.0  0.0  0.0  0.0  0.0  0.0     0.0  1.0  2.0  1.0  0.0  5.0  2.0\n",
       " 0.0  0.0  0.0  0.0  0.0  0.0  0.0  1.0     1.0  2.0  1.0  0.0  5.0  2.0  3.0"
      ]
     },
     "execution_count": 7,
     "metadata": {},
     "output_type": "execute_result"
    }
   ],
   "source": [
    "lagged_sales"
   ]
  },
  {
   "cell_type": "code",
   "execution_count": 8,
   "metadata": {},
   "outputs": [
    {
     "data": {
      "text/plain": [
       "532-element Array{Float64,1}:\n",
       " 0.0\n",
       " 0.0\n",
       " 0.0\n",
       " 0.0\n",
       " 0.0\n",
       " 0.0\n",
       " 1.0\n",
       " 0.0\n",
       " 0.0\n",
       " 0.0\n",
       " 0.0\n",
       " 0.0\n",
       " 0.0\n",
       " ⋮\n",
       " 0.0\n",
       " 1.0\n",
       " 1.0\n",
       " 0.0\n",
       " 1.0\n",
       " 2.0\n",
       " 1.0\n",
       " 0.0\n",
       " 5.0\n",
       " 2.0\n",
       " 3.0\n",
       " 2.0"
      ]
     },
     "execution_count": 8,
     "metadata": {},
     "output_type": "execute_result"
    }
   ],
   "source": [
    "y_sales = sales[lag+1:end]"
   ]
  },
  {
   "cell_type": "markdown",
   "metadata": {},
   "source": [
    "For this introductory example, we will also only do one-step ahead testing and not perform a forecast over a longer time-horizon. In a real-world problem, you should only do this if really only the next day is relevant. In case your model needs to forecast over a longer time-horizon, you need to account for this in your testing and validation steps.  \n",
    "\n",
    "(Side-note: For this stochastic model with lagged auto-predictors, you would need to do Monte-Carlo simulations in order to correctly do an $X$-step ahead forecast with $X>1$)"
   ]
  },
  {
   "cell_type": "code",
   "execution_count": 9,
   "metadata": {},
   "outputs": [
    {
     "data": {
      "text/plain": [
       "100-element Array{Float64,1}:\n",
       " 1.0\n",
       " 4.0\n",
       " 5.0\n",
       " 3.0\n",
       " 5.0\n",
       " 5.0\n",
       " 0.0\n",
       " 4.0\n",
       " 3.0\n",
       " 2.0\n",
       " 2.0\n",
       " 1.0\n",
       " 4.0\n",
       " ⋮\n",
       " 0.0\n",
       " 1.0\n",
       " 1.0\n",
       " 0.0\n",
       " 1.0\n",
       " 2.0\n",
       " 1.0\n",
       " 0.0\n",
       " 5.0\n",
       " 2.0\n",
       " 3.0\n",
       " 2.0"
      ]
     },
     "execution_count": 9,
     "metadata": {},
     "output_type": "execute_result"
    }
   ],
   "source": [
    "X_train = lagged_sales[:,1:end-100]\n",
    "X_test = lagged_sales[:,end-99:end]\n",
    "\n",
    "y_train = y_sales[1:end-100]\n",
    "y_test = y_sales[end-99:end]"
   ]
  },
  {
   "cell_type": "markdown",
   "metadata": {},
   "source": [
    "As mentioned above, we simply use a Feedforward Network for $\\Phi$ - both layer-topology and activation function were chosen quite arbitrarily and would likely need to be optimized in application. Also, we need to ensure that the output is positive as the output will be used as the strictly-positive parameter of the Poisson-Distribution. "
   ]
  },
  {
   "cell_type": "code",
   "execution_count": 10,
   "metadata": {},
   "outputs": [
    {
     "data": {
      "text/plain": [
       "Chain(Dense(14, 10, selu), Dense(10, 10, selu), Dense(10, 1), #11)"
      ]
     },
     "execution_count": 10,
     "metadata": {},
     "output_type": "execute_result"
    }
   ],
   "source": [
    "Random.seed!(321)\n",
    "model = Chain(Dense(lag,10,selu), Dense(10,10,selu), Dense(10,1), x->exp.(x))"
   ]
  },
  {
   "cell_type": "markdown",
   "metadata": {},
   "source": [
    "In order to estimate the model parameters, we use Maximum-Likelihood. That means that we use the estimated forecast-distribution for each day and optimize its parameters to maximize the likelihood of the actually observed sales value for that day. If you are new to Maximum-Likelihood methods, I highly recommend to read up on them as Maximum-Likelihood is a very powerful tool."
   ]
  },
  {
   "cell_type": "code",
   "execution_count": 11,
   "metadata": {},
   "outputs": [
    {
     "data": {
      "text/plain": [
       "poisson_loglike (generic function with 1 method)"
      ]
     },
     "execution_count": 11,
     "metadata": {},
     "output_type": "execute_result"
    }
   ],
   "source": [
    "function poisson_loglike(model, X, y)\n",
    "    λ = model(X)[:]\n",
    "    -mean(y.*log.(λ) .- λ .- log.(factorial.(y)))\n",
    "end"
   ]
  },
  {
   "cell_type": "markdown",
   "metadata": {},
   "source": [
    "The next cell is not necessary but makes working with Flux+Zygote more convenient to myself."
   ]
  },
  {
   "cell_type": "code",
   "execution_count": 12,
   "metadata": {},
   "outputs": [
    {
     "data": {
      "text/plain": [
       "loss (generic function with 1 method)"
      ]
     },
     "execution_count": 12,
     "metadata": {},
     "output_type": "execute_result"
    }
   ],
   "source": [
    "loss() = poisson_loglike(model, X_train, y_train)"
   ]
  },
  {
   "cell_type": "markdown",
   "metadata": {},
   "source": [
    "Now we can grab the model parameters, define the optimizer and 'learn' our model parameters."
   ]
  },
  {
   "cell_type": "code",
   "execution_count": 13,
   "metadata": {},
   "outputs": [
    {
     "data": {
      "text/plain": [
       "ADAM(0.01, (0.9, 0.999), IdDict{Any,Any}())"
      ]
     },
     "execution_count": 13,
     "metadata": {},
     "output_type": "execute_result"
    }
   ],
   "source": [
    "params = Flux.params(model)\n",
    "opt = ADAM(0.01)"
   ]
  },
  {
   "cell_type": "code",
   "execution_count": 14,
   "metadata": {},
   "outputs": [
    {
     "name": "stdout",
     "output_type": "stream",
     "text": [
      "2.3574069243831053\n",
      "1.6750365382562786\n",
      "1.3895055795570306\n",
      "1.2740624072475433\n",
      "1.2446403356783775\n",
      "1.2213983698600446\n",
      "1.2036021462600761\n",
      "1.188941886716236\n",
      "1.1771252793193157\n",
      "1.1669957317098294\n",
      "1.157933156883795\n"
     ]
    }
   ],
   "source": [
    "for i in 1:100\n",
    "    grads = Zygote.gradient(()->loss(), params)\n",
    "    Flux.Optimise.update!(opt, params, grads)\n",
    "    if i%10==0 || i==1\n",
    "        println(loss())\n",
    "    end\n",
    "end "
   ]
  },
  {
   "cell_type": "markdown",
   "metadata": {},
   "source": [
    "## Evaluation\n",
    "Finally, we can perform the one-step ahead forecast on our hold-out set:"
   ]
  },
  {
   "cell_type": "code",
   "execution_count": 15,
   "metadata": {},
   "outputs": [
    {
     "data": {
      "text/plain": [
       "100-element Array{Poisson{Float64},1}:\n",
       " Poisson{Float64}(λ=0.847226619720459)\n",
       " Poisson{Float64}(λ=0.9192099571228027)\n",
       " Poisson{Float64}(λ=1.4431120157241821)\n",
       " Poisson{Float64}(λ=0.8316798806190491)\n",
       " Poisson{Float64}(λ=2.348788261413574)\n",
       " Poisson{Float64}(λ=2.5310475826263428)\n",
       " Poisson{Float64}(λ=1.9020497798919678)\n",
       " Poisson{Float64}(λ=2.5985312461853027)\n",
       " Poisson{Float64}(λ=2.0054309368133545)\n",
       " Poisson{Float64}(λ=0.45134299993515015)\n",
       " Poisson{Float64}(λ=0.3537631630897522)\n",
       " Poisson{Float64}(λ=0.7592843770980835)\n",
       " Poisson{Float64}(λ=0.5059677362442017)\n",
       " ⋮\n",
       " Poisson{Float64}(λ=0.6818021535873413)\n",
       " Poisson{Float64}(λ=0.5880723595619202)\n",
       " Poisson{Float64}(λ=0.7180291414260864)\n",
       " Poisson{Float64}(λ=0.6849886775016785)\n",
       " Poisson{Float64}(λ=0.9069685935974121)\n",
       " Poisson{Float64}(λ=0.9222384691238403)\n",
       " Poisson{Float64}(λ=1.0099505186080933)\n",
       " Poisson{Float64}(λ=0.642636239528656)\n",
       " Poisson{Float64}(λ=0.8596776723861694)\n",
       " Poisson{Float64}(λ=1.0555813312530518)\n",
       " Poisson{Float64}(λ=0.47326332330703735)\n",
       " Poisson{Float64}(λ=1.4952352046966553)"
      ]
     },
     "execution_count": 15,
     "metadata": {},
     "output_type": "execute_result"
    }
   ],
   "source": [
    "prob_forecast = Poisson.(Float64.(model(X_test)[:]))"
   ]
  },
  {
   "cell_type": "markdown",
   "metadata": {},
   "source": [
    "Now since we have full distributional forecasts, we can also obtain interesting summary statistics. We are mostly interested in a point forecast and an interval forecast, so we use mean and 90% confidence interval (CI):"
   ]
  },
  {
   "cell_type": "code",
   "execution_count": 16,
   "metadata": {},
   "outputs": [
    {
     "ename": "UndefVarError",
     "evalue": "UndefVarError: mode_forecast not defined",
     "output_type": "error",
     "traceback": [
      "UndefVarError: mode_forecast not defined",
      "",
      "Stacktrace:",
      " [1] top-level scope at In[16]:7"
     ]
    }
   ],
   "source": [
    "mean_forecast = mean.(prob_forecast)\n",
    "lower_forecast = quantile.(prob_forecast, 0.05)\n",
    "upper_forecast = quantile.(prob_forecast, 0.95)\n",
    "\n",
    "plot(mean_forecast; ribbon=(mean_forecast .- lower_forecast, upper_forecast .- mean_forecast),\n",
    "    size=(900, 400), lw=3, line=:dash, label=\"Mean Forecast\", title=\"One-Day ahead forecast\")\n",
    "\n",
    "plot!(mode_forecast, lw=3, line=:dash, label=\"Mode Forecast\")\n",
    "\n",
    "plot!(y_test, lw=3, label=\"Actual Realization\")"
   ]
  },
  {
   "cell_type": "markdown",
   "metadata": {},
   "source": [
    "After the above qualitative inspection, we should also consider some quantitative evaluation metrics. Here, we look at the CI coverage - 90% of actual values should fall into the 90% CI, none more and none less - and at the Mean Absolute Error (MAE) of our point forecast."
   ]
  },
  {
   "cell_type": "code",
   "execution_count": 17,
   "metadata": {},
   "outputs": [
    {
     "name": "stdout",
     "output_type": "stream",
     "text": [
      "90% CI-coverage:\n",
      "0.91\n",
      "\n",
      "Forecast MAE:\n",
      "1.0060239964723587\n"
     ]
    }
   ],
   "source": [
    "println(\"90% CI-coverage:\")\n",
    "println(mean((lower_forecast .<= y_test) .* (upper_forecast .>= y_test)))\n",
    "println()\n",
    "println(\"Forecast MAE:\")\n",
    "println(mean(abs.(mean_forecast .- y_test)))"
   ]
  },
  {
   "cell_type": "markdown",
   "metadata": {},
   "source": [
    "The CI-coverage looks reasonable - 91% of actual values fall within our forecast 90% CI. The MAE looks ok-ish given the low range of the data. Using more data, features or or a better tuned model, we could fairly likely arrive at better results for the point-forecast."
   ]
  },
  {
   "cell_type": "markdown",
   "metadata": {},
   "source": [
    "## What's the advantage?\n",
    "One might ask why to go the extra steps of a discrete Poisson model for item level demand when we could simply use the output of the Neural Network as the demand forecast, given that it will also be strictly positive. There are several reasons that speak against this procedure:\n",
    "\n",
    "1) **The real process cannot be continuous**: While all models are necessarily wrong in the absence of complete knowledge about the underlying problem and absence of data, we should strive to get our models as close to reality as possible\n",
    "\n",
    "2) **Communicating results can be done much more conveniently**: Since we have point mass at a countable set of realizations, we can tell decision makers exactly what numbers to expect at what probabilities. This is certainly not as straightforward with a continuous forecast, given said forecast is probabilistic at all (a lognormal model would be possible but again violate the discrete nature of the time series)\n",
    "\n",
    "3) **There is a rich toolset for optimization with discrete probabilities**: Continuous stochastic optimization is also a well developed field yet working with discrete probabilities makes things much easier. Some optimization techniques might even only be possible with discrete probabilities. With reliable demand forecasts about a whole inventory at hand, one could easily answer interesting questions - e.g. how many units per item to order in order to maximize expected returns given costs for order and storage. \n",
    "\n",
    "On the other hand, the Poisson model is of course fairly simplistic as the distribution uses a single parameter ($\\lambda$) to describe a fairly complex real-world process. Depending on the data available, one might want to try more sophisticated distributions to better account for this. "
   ]
  },
  {
   "cell_type": "markdown",
   "metadata": {},
   "source": [
    "## Conclusion\n",
    "Hopefully, the above was inspiring enough to take a deeper look at non-standard, probabilistic regression models. In past blog-posts I have mostly introduced non-probabilistic regresion models myself but things only become interesting and actually realistic if you take the randomness and stochasticity of the real-world into account. At the moment, I am also working a lot with Bayesian Machine Learning for my PhD thesis which is actually completely separate from the topics I wrote about so far. This will change as soon as I have blog-able results at hand :)"
   ]
  }
 ],
 "metadata": {
  "kernelspec": {
   "display_name": "Julia 1.4.0",
   "language": "julia",
   "name": "julia-1.4"
  },
  "language_info": {
   "file_extension": ".jl",
   "mimetype": "application/julia",
   "name": "julia",
   "version": "1.4.0"
  }
 },
 "nbformat": 4,
 "nbformat_minor": 4
}
